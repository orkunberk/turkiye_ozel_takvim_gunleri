{
 "cells": [
  {
   "cell_type": "markdown",
   "metadata": {},
   "source": [
    "### Türkiye Özel Takvim Günleri\n",
    "\n",
    "Belirtilen tarih aralığında, Türkiye'deki özel takvim günlerini pandas dataframe oluşturma kodu."
   ]
  },
  {
   "cell_type": "code",
   "execution_count": 1,
   "metadata": {},
   "outputs": [],
   "source": [
    "import pandas as pd\n",
    "import datetime\n",
    "import warnings\n",
    "\n",
    "from workalendar.europe import Turkey\n",
    "from itertools import chain"
   ]
  },
  {
   "cell_type": "code",
   "execution_count": 2,
   "metadata": {},
   "outputs": [],
   "source": [
    "cal = Turkey()\n",
    "\n",
    "baslangic_yili = 2015\n",
    "bitis_yili = 2020"
   ]
  },
  {
   "cell_type": "code",
   "execution_count": 3,
   "metadata": {},
   "outputs": [],
   "source": [
    "dates = []\n",
    "events = []"
   ]
  },
  {
   "cell_type": "code",
   "execution_count": 4,
   "metadata": {},
   "outputs": [
    {
     "name": "stderr",
     "output_type": "stream",
     "text": [
      "C:\\Users\\orkun.yuzbasioglu\\Anaconda3\\envs\\mlenvironment\\lib\\site-packages\\workalendar\\core.py:431: UserWarning: Please take note that, due to arbitrary decisions, this Islamic calendar computation may be wrong.\n",
      "  warnings.warn('Please take note that, due to arbitrary decisions, '\n"
     ]
    }
   ],
   "source": [
    "special_dates = [cal.holidays(year) for year in range(baslangic_yili, bitis_yili+1)]"
   ]
  },
  {
   "cell_type": "code",
   "execution_count": 5,
   "metadata": {
    "scrolled": true
   },
   "outputs": [],
   "source": [
    "dates = [el[0] for el in list(chain(*special_dates))]\n",
    "events= [el[1] for el in list(chain(*special_dates))]"
   ]
  },
  {
   "cell_type": "markdown",
   "metadata": {},
   "source": [
    "#### Özel Günler Dataframe'i<br>\n",
    "\n",
    "`special_dates_df` özel takvim günlerini içeren bir `pandas` dataframe."
   ]
  },
  {
   "cell_type": "code",
   "execution_count": 6,
   "metadata": {},
   "outputs": [],
   "source": [
    "special_dates_df = pd.DataFrame({'Date':dates, 'Event':events})\n",
    "special_dates_df['Date'] =  pd.to_datetime(special_dates_df['Date'])"
   ]
  },
  {
   "cell_type": "markdown",
   "metadata": {},
   "source": [
    "#### Tüm Günler Dataframe'i<br>\n",
    "\n",
    "`calender` özel takvim günlerini içeren bir `pandas` dataframe."
   ]
  },
  {
   "cell_type": "code",
   "execution_count": 7,
   "metadata": {},
   "outputs": [],
   "source": [
    "calender = pd.DataFrame({'Date':pd.date_range(start='1/1/'+str(baslangic_yili), end='31/12/'+str(bitis_yili))})"
   ]
  },
  {
   "cell_type": "code",
   "execution_count": 8,
   "metadata": {},
   "outputs": [],
   "source": [
    "calender_df = calender.merge(special_dates_df, how='left').fillna('NotASpecialDate')"
   ]
  }
 ],
 "metadata": {
  "kernelspec": {
   "display_name": "Python 3",
   "language": "python",
   "name": "python3"
  },
  "language_info": {
   "codemirror_mode": {
    "name": "ipython",
    "version": 3
   },
   "file_extension": ".py",
   "mimetype": "text/x-python",
   "name": "python",
   "nbconvert_exporter": "python",
   "pygments_lexer": "ipython3",
   "version": "3.8.5"
  }
 },
 "nbformat": 4,
 "nbformat_minor": 4
}
